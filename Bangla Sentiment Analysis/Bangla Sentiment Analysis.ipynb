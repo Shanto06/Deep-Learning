{
 "cells": [
  {
   "cell_type": "code",
   "execution_count": 56,
   "metadata": {},
   "outputs": [],
   "source": [
    "import numpy as np\n",
    "import pandas as pd\n",
    "import matplotlib.pyplot as plt\n",
    "import tensorflow as tf\n",
    "from tensorflow.keras.preprocessing import text\n",
    "from tensorflow.keras.preprocessing import sequence\n",
    "from tensorflow.keras.models import Sequential\n",
    "from tensorflow.keras.layers import Dense, Dropout, Activation,LSTM\n",
    "from tensorflow.keras.layers import MaxPooling1D, GlobalMaxPooling1D, Conv1D, Embedding\n",
    "from sklearn.model_selection import train_test_split"
   ]
  },
  {
   "cell_type": "code",
   "execution_count": 57,
   "metadata": {},
   "outputs": [
    {
     "data": {
      "text/html": [
       "<div>\n",
       "<style scoped>\n",
       "    .dataframe tbody tr th:only-of-type {\n",
       "        vertical-align: middle;\n",
       "    }\n",
       "\n",
       "    .dataframe tbody tr th {\n",
       "        vertical-align: top;\n",
       "    }\n",
       "\n",
       "    .dataframe thead th {\n",
       "        text-align: right;\n",
       "    }\n",
       "</style>\n",
       "<table border=\"1\" class=\"dataframe\">\n",
       "  <thead>\n",
       "    <tr style=\"text-align: right;\">\n",
       "      <th></th>\n",
       "      <th>Source</th>\n",
       "      <th>Date</th>\n",
       "      <th>Text</th>\n",
       "      <th>Category</th>\n",
       "      <th>Polarity</th>\n",
       "    </tr>\n",
       "  </thead>\n",
       "  <tbody>\n",
       "    <tr>\n",
       "      <td>0</td>\n",
       "      <td>BBC Bangla</td>\n",
       "      <td>2018-06-03 00:00:00</td>\n",
       "      <td>জয় বাংলা কাপ! তাও আবার স্বাধীনতার মাস মার্চে। ...</td>\n",
       "      <td>other</td>\n",
       "      <td>positive</td>\n",
       "    </tr>\n",
       "    <tr>\n",
       "      <td>1</td>\n",
       "      <td>BBC Bangla</td>\n",
       "      <td>2018-06-04 00:00:00</td>\n",
       "      <td>জয় বাংলা কাপ! তাও আবার স্বাধীনতার মাস মার্চে। ...</td>\n",
       "      <td>team</td>\n",
       "      <td>positive</td>\n",
       "    </tr>\n",
       "    <tr>\n",
       "      <td>2</td>\n",
       "      <td>BBC Bangla</td>\n",
       "      <td>15/6/2017</td>\n",
       "      <td>বাংলাদেশের পরে ভারতের সাপর্ট ই করি ?</td>\n",
       "      <td>team</td>\n",
       "      <td>positive</td>\n",
       "    </tr>\n",
       "    <tr>\n",
       "      <td>3</td>\n",
       "      <td>BBC Bangla</td>\n",
       "      <td>15/6/2020</td>\n",
       "      <td>সৌম্যকে বাদ দেওয়া হোক</td>\n",
       "      <td>batting</td>\n",
       "      <td>negative</td>\n",
       "    </tr>\n",
       "    <tr>\n",
       "      <td>4</td>\n",
       "      <td>BBC Bangla</td>\n",
       "      <td>27/1/2018</td>\n",
       "      <td>প্রথমটি হচ্ছে, কোচ অত:পর সাকিব,সাকিব আর সাকিবর...</td>\n",
       "      <td>team</td>\n",
       "      <td>positive</td>\n",
       "    </tr>\n",
       "    <tr>\n",
       "      <td>...</td>\n",
       "      <td>...</td>\n",
       "      <td>...</td>\n",
       "      <td>...</td>\n",
       "      <td>...</td>\n",
       "      <td>...</td>\n",
       "    </tr>\n",
       "    <tr>\n",
       "      <td>2974</td>\n",
       "      <td>Prothom Alo</td>\n",
       "      <td>2018-11-02 00:00:00</td>\n",
       "      <td>নির্বাচকমণ্ডলী দের গালে জুতা মারা উচিত.. হালা...</td>\n",
       "      <td>team management</td>\n",
       "      <td>negative</td>\n",
       "    </tr>\n",
       "    <tr>\n",
       "      <td>2975</td>\n",
       "      <td>Prothom Alo</td>\n",
       "      <td>2018-11-02 00:00:00</td>\n",
       "      <td>বস ভাল করবে ইটাই আশা করি,দারুন এরজন ব্যাটিং অল...</td>\n",
       "      <td>batting</td>\n",
       "      <td>negative</td>\n",
       "    </tr>\n",
       "    <tr>\n",
       "      <td>2976</td>\n",
       "      <td>Prothom Alo</td>\n",
       "      <td>2018-11-02 00:00:00</td>\n",
       "      <td>বস ভাল করবে ইটাই আশা করি,দারুন এরজন ব্যাটিং অল...</td>\n",
       "      <td>bowling</td>\n",
       "      <td>negative</td>\n",
       "    </tr>\n",
       "    <tr>\n",
       "      <td>2977</td>\n",
       "      <td>Prothom Alo</td>\n",
       "      <td>2018-11-02 00:00:00</td>\n",
       "      <td>গুগল সার্চ করে মিনহাজের রানরেট দেখে নিন? এভারে...</td>\n",
       "      <td>team management</td>\n",
       "      <td>negative</td>\n",
       "    </tr>\n",
       "    <tr>\n",
       "      <td>2978</td>\n",
       "      <td>Prothom Alo</td>\n",
       "      <td>2018-11-02 00:00:00</td>\n",
       "      <td>টিম মেনেজমেন্ট থেকে শুরু করে সবাইকে গাজার পরিব...</td>\n",
       "      <td>team management</td>\n",
       "      <td>negative</td>\n",
       "    </tr>\n",
       "  </tbody>\n",
       "</table>\n",
       "<p>2979 rows × 5 columns</p>\n",
       "</div>"
      ],
      "text/plain": [
       "           Source                 Date  \\\n",
       "0      BBC Bangla  2018-06-03 00:00:00   \n",
       "1      BBC Bangla  2018-06-04 00:00:00   \n",
       "2      BBC Bangla            15/6/2017   \n",
       "3      BBC Bangla            15/6/2020   \n",
       "4      BBC Bangla            27/1/2018   \n",
       "...           ...                  ...   \n",
       "2974  Prothom Alo  2018-11-02 00:00:00   \n",
       "2975  Prothom Alo  2018-11-02 00:00:00   \n",
       "2976  Prothom Alo  2018-11-02 00:00:00   \n",
       "2977  Prothom Alo  2018-11-02 00:00:00   \n",
       "2978  Prothom Alo  2018-11-02 00:00:00   \n",
       "\n",
       "                                                   Text         Category  \\\n",
       "0     জয় বাংলা কাপ! তাও আবার স্বাধীনতার মাস মার্চে। ...            other   \n",
       "1     জয় বাংলা কাপ! তাও আবার স্বাধীনতার মাস মার্চে। ...             team   \n",
       "2                  বাংলাদেশের পরে ভারতের সাপর্ট ই করি ?             team   \n",
       "3                                 সৌম্যকে বাদ দেওয়া হোক          batting   \n",
       "4     প্রথমটি হচ্ছে, কোচ অত:পর সাকিব,সাকিব আর সাকিবর...             team   \n",
       "...                                                 ...              ...   \n",
       "2974   নির্বাচকমণ্ডলী দের গালে জুতা মারা উচিত.. হালা...  team management   \n",
       "2975  বস ভাল করবে ইটাই আশা করি,দারুন এরজন ব্যাটিং অল...          batting   \n",
       "2976  বস ভাল করবে ইটাই আশা করি,দারুন এরজন ব্যাটিং অল...          bowling   \n",
       "2977  গুগল সার্চ করে মিনহাজের রানরেট দেখে নিন? এভারে...  team management   \n",
       "2978  টিম মেনেজমেন্ট থেকে শুরু করে সবাইকে গাজার পরিব...  team management   \n",
       "\n",
       "      Polarity  \n",
       "0     positive  \n",
       "1     positive  \n",
       "2     positive  \n",
       "3     negative  \n",
       "4     positive  \n",
       "...        ...  \n",
       "2974  negative  \n",
       "2975  negative  \n",
       "2976  negative  \n",
       "2977  negative  \n",
       "2978  negative  \n",
       "\n",
       "[2979 rows x 5 columns]"
      ]
     },
     "execution_count": 57,
     "metadata": {},
     "output_type": "execute_result"
    }
   ],
   "source": [
    "df=pd.read_excel(\"Cricket.xlsx\")\n",
    "df.sample(10, random_state=1)"
   ]
  },
  {
   "cell_type": "code",
   "execution_count": 58,
   "metadata": {},
   "outputs": [
    {
     "data": {
      "text/plain": [
       "Index(['Source', 'Date', 'Text', 'Category', 'Polarity'], dtype='object')"
      ]
     },
     "execution_count": 58,
     "metadata": {},
     "output_type": "execute_result"
    }
   ],
   "source": [
    "df.columns"
   ]
  },
  {
   "cell_type": "markdown",
   "metadata": {},
   "source": [
    "# cleaning data"
   ]
  },
  {
   "cell_type": "code",
   "execution_count": 59,
   "metadata": {},
   "outputs": [],
   "source": [
    "import re\n",
    "en_regex = r\"[!|\\\"|#|$|%|&|\\\\|'|(|)|*|+|,|.|/|:|;|<|=|>|?|@|[|\\|\\|\\]|^|_|`|{|\\||}|~|^a-zA-Z0-9]\"\n",
    "bn_regex = r\"[।|০।১।২।৩।৪।৫।৬।৭।৮।৯।,।:।'|‘|’]\"\n",
    "\n",
    "def text_clean(text):\n",
    "    text = re.sub(en_regex, r\"\", text.lower())\n",
    "    text = re.sub(bn_regex, r\"\", text)\n",
    "    return \" \".join(text.split(\" \"))\n",
    "\n",
    "\n",
    "df['Text'] = df['Text'].apply(text_clean)"
   ]
  },
  {
   "cell_type": "code",
   "execution_count": 60,
   "metadata": {},
   "outputs": [
    {
     "data": {
      "text/html": [
       "<div>\n",
       "<style scoped>\n",
       "    .dataframe tbody tr th:only-of-type {\n",
       "        vertical-align: middle;\n",
       "    }\n",
       "\n",
       "    .dataframe tbody tr th {\n",
       "        vertical-align: top;\n",
       "    }\n",
       "\n",
       "    .dataframe thead th {\n",
       "        text-align: right;\n",
       "    }\n",
       "</style>\n",
       "<table border=\"1\" class=\"dataframe\">\n",
       "  <thead>\n",
       "    <tr style=\"text-align: right;\">\n",
       "      <th></th>\n",
       "      <th>Source</th>\n",
       "      <th>Date</th>\n",
       "      <th>Text</th>\n",
       "      <th>Category</th>\n",
       "      <th>Polarity</th>\n",
       "    </tr>\n",
       "  </thead>\n",
       "  <tbody>\n",
       "    <tr>\n",
       "      <td>0</td>\n",
       "      <td>BBC Bangla</td>\n",
       "      <td>2018-06-03 00:00:00</td>\n",
       "      <td>জয় বাংলা কাপ তাও আবার স্বাধীনতার মাস মার্চে যা...</td>\n",
       "      <td>other</td>\n",
       "      <td>positive</td>\n",
       "    </tr>\n",
       "    <tr>\n",
       "      <td>1</td>\n",
       "      <td>BBC Bangla</td>\n",
       "      <td>2018-06-04 00:00:00</td>\n",
       "      <td>জয় বাংলা কাপ তাও আবার স্বাধীনতার মাস মার্চে যা...</td>\n",
       "      <td>team</td>\n",
       "      <td>positive</td>\n",
       "    </tr>\n",
       "    <tr>\n",
       "      <td>2</td>\n",
       "      <td>BBC Bangla</td>\n",
       "      <td>15/6/2017</td>\n",
       "      <td>বাংলাদেশের পরে ভারতের সাপর্ট ই করি</td>\n",
       "      <td>team</td>\n",
       "      <td>positive</td>\n",
       "    </tr>\n",
       "    <tr>\n",
       "      <td>3</td>\n",
       "      <td>BBC Bangla</td>\n",
       "      <td>15/6/2020</td>\n",
       "      <td>সৌম্যকে বাদ দেওয়া হোক</td>\n",
       "      <td>batting</td>\n",
       "      <td>negative</td>\n",
       "    </tr>\n",
       "    <tr>\n",
       "      <td>4</td>\n",
       "      <td>BBC Bangla</td>\n",
       "      <td>27/1/2018</td>\n",
       "      <td>প্রথমটি হচ্ছে কোচ অতপর সাকিবসাকিব আর সাকিবরে দ...</td>\n",
       "      <td>team</td>\n",
       "      <td>positive</td>\n",
       "    </tr>\n",
       "    <tr>\n",
       "      <td>...</td>\n",
       "      <td>...</td>\n",
       "      <td>...</td>\n",
       "      <td>...</td>\n",
       "      <td>...</td>\n",
       "      <td>...</td>\n",
       "    </tr>\n",
       "    <tr>\n",
       "      <td>2974</td>\n",
       "      <td>Prothom Alo</td>\n",
       "      <td>2018-11-02 00:00:00</td>\n",
       "      <td>নির্বাচকমণ্ডলী দের গালে জুতা মারা উচিত হালার ...</td>\n",
       "      <td>team management</td>\n",
       "      <td>negative</td>\n",
       "    </tr>\n",
       "    <tr>\n",
       "      <td>2975</td>\n",
       "      <td>Prothom Alo</td>\n",
       "      <td>2018-11-02 00:00:00</td>\n",
       "      <td>বস ভাল করবে ইটাই আশা করিদারুন এরজন ব্যাটিং অলর...</td>\n",
       "      <td>batting</td>\n",
       "      <td>negative</td>\n",
       "    </tr>\n",
       "    <tr>\n",
       "      <td>2976</td>\n",
       "      <td>Prothom Alo</td>\n",
       "      <td>2018-11-02 00:00:00</td>\n",
       "      <td>বস ভাল করবে ইটাই আশা করিদারুন এরজন ব্যাটিং অলর...</td>\n",
       "      <td>bowling</td>\n",
       "      <td>negative</td>\n",
       "    </tr>\n",
       "    <tr>\n",
       "      <td>2977</td>\n",
       "      <td>Prothom Alo</td>\n",
       "      <td>2018-11-02 00:00:00</td>\n",
       "      <td>গুগল সার্চ করে মিনহাজের রানরেট দেখে নিন এভারেজ...</td>\n",
       "      <td>team management</td>\n",
       "      <td>negative</td>\n",
       "    </tr>\n",
       "    <tr>\n",
       "      <td>2978</td>\n",
       "      <td>Prothom Alo</td>\n",
       "      <td>2018-11-02 00:00:00</td>\n",
       "      <td>টিম মেনেজমেন্ট থেকে শুরু করে সবাইকে গাজার পরিব...</td>\n",
       "      <td>team management</td>\n",
       "      <td>negative</td>\n",
       "    </tr>\n",
       "  </tbody>\n",
       "</table>\n",
       "<p>2979 rows × 5 columns</p>\n",
       "</div>"
      ],
      "text/plain": [
       "           Source                 Date  \\\n",
       "0      BBC Bangla  2018-06-03 00:00:00   \n",
       "1      BBC Bangla  2018-06-04 00:00:00   \n",
       "2      BBC Bangla            15/6/2017   \n",
       "3      BBC Bangla            15/6/2020   \n",
       "4      BBC Bangla            27/1/2018   \n",
       "...           ...                  ...   \n",
       "2974  Prothom Alo  2018-11-02 00:00:00   \n",
       "2975  Prothom Alo  2018-11-02 00:00:00   \n",
       "2976  Prothom Alo  2018-11-02 00:00:00   \n",
       "2977  Prothom Alo  2018-11-02 00:00:00   \n",
       "2978  Prothom Alo  2018-11-02 00:00:00   \n",
       "\n",
       "                                                   Text         Category  \\\n",
       "0     জয় বাংলা কাপ তাও আবার স্বাধীনতার মাস মার্চে যা...            other   \n",
       "1     জয় বাংলা কাপ তাও আবার স্বাধীনতার মাস মার্চে যা...             team   \n",
       "2                   বাংলাদেশের পরে ভারতের সাপর্ট ই করি              team   \n",
       "3                                 সৌম্যকে বাদ দেওয়া হোক          batting   \n",
       "4     প্রথমটি হচ্ছে কোচ অতপর সাকিবসাকিব আর সাকিবরে দ...             team   \n",
       "...                                                 ...              ...   \n",
       "2974   নির্বাচকমণ্ডলী দের গালে জুতা মারা উচিত হালার ...  team management   \n",
       "2975  বস ভাল করবে ইটাই আশা করিদারুন এরজন ব্যাটিং অলর...          batting   \n",
       "2976  বস ভাল করবে ইটাই আশা করিদারুন এরজন ব্যাটিং অলর...          bowling   \n",
       "2977  গুগল সার্চ করে মিনহাজের রানরেট দেখে নিন এভারেজ...  team management   \n",
       "2978  টিম মেনেজমেন্ট থেকে শুরু করে সবাইকে গাজার পরিব...  team management   \n",
       "\n",
       "      Polarity  \n",
       "0     positive  \n",
       "1     positive  \n",
       "2     positive  \n",
       "3     negative  \n",
       "4     positive  \n",
       "...        ...  \n",
       "2974  negative  \n",
       "2975  negative  \n",
       "2976  negative  \n",
       "2977  negative  \n",
       "2978  negative  \n",
       "\n",
       "[2979 rows x 5 columns]"
      ]
     },
     "execution_count": 60,
     "metadata": {},
     "output_type": "execute_result"
    }
   ],
   "source": [
    "df.sample(10, random_state=1)\n",
    "df"
   ]
  },
  {
   "cell_type": "code",
   "execution_count": 61,
   "metadata": {},
   "outputs": [
    {
     "data": {
      "text/plain": [
       "negative    2152\n",
       "positive     566\n",
       "neutral      261\n",
       "Name: Polarity, dtype: int64"
      ]
     },
     "execution_count": 61,
     "metadata": {},
     "output_type": "execute_result"
    }
   ],
   "source": [
    "df['Polarity'].value_counts()"
   ]
  },
  {
   "cell_type": "markdown",
   "metadata": {},
   "source": [
    "# Labeling"
   ]
  },
  {
   "cell_type": "code",
   "execution_count": 62,
   "metadata": {},
   "outputs": [],
   "source": [
    "df['Polarity'] = df['Polarity'].map({'positive':1, 'negative':0,'neutral':2})"
   ]
  },
  {
   "cell_type": "code",
   "execution_count": 63,
   "metadata": {},
   "outputs": [
    {
     "data": {
      "text/html": [
       "<div>\n",
       "<style scoped>\n",
       "    .dataframe tbody tr th:only-of-type {\n",
       "        vertical-align: middle;\n",
       "    }\n",
       "\n",
       "    .dataframe tbody tr th {\n",
       "        vertical-align: top;\n",
       "    }\n",
       "\n",
       "    .dataframe thead th {\n",
       "        text-align: right;\n",
       "    }\n",
       "</style>\n",
       "<table border=\"1\" class=\"dataframe\">\n",
       "  <thead>\n",
       "    <tr style=\"text-align: right;\">\n",
       "      <th></th>\n",
       "      <th>Source</th>\n",
       "      <th>Date</th>\n",
       "      <th>Text</th>\n",
       "      <th>Category</th>\n",
       "      <th>Polarity</th>\n",
       "    </tr>\n",
       "  </thead>\n",
       "  <tbody>\n",
       "    <tr>\n",
       "      <td>445</td>\n",
       "      <td>Prothom Alo</td>\n",
       "      <td>2018-07-02 00:00:00</td>\n",
       "      <td>হাতরুর সিংহ একটি বেয়াদব মানুষ</td>\n",
       "      <td>other</td>\n",
       "      <td>0</td>\n",
       "    </tr>\n",
       "    <tr>\n",
       "      <td>2687</td>\n",
       "      <td>Prothom Alo</td>\n",
       "      <td>2018-10-02 00:00:00</td>\n",
       "      <td>রংগনা হেরাত একাই শেষ করে ফেলবে স্পিন করলে পারল...</td>\n",
       "      <td>bowling</td>\n",
       "      <td>0</td>\n",
       "    </tr>\n",
       "    <tr>\n",
       "      <td>1541</td>\n",
       "      <td>Prothom Alo</td>\n",
       "      <td>2018-02-08 00:00:00</td>\n",
       "      <td>সাকিব বিহীন দলটা সত্যিই অনেক অগোচালো</td>\n",
       "      <td>team</td>\n",
       "      <td>0</td>\n",
       "    </tr>\n",
       "    <tr>\n",
       "      <td>521</td>\n",
       "      <td>Prothom Alo</td>\n",
       "      <td>2018-05-02 00:00:00</td>\n",
       "      <td>রানের ব্যবধানে চিরপ্রতিদ্বন্দ্বী ভারতের বিপক্...</td>\n",
       "      <td>batting</td>\n",
       "      <td>0</td>\n",
       "    </tr>\n",
       "    <tr>\n",
       "      <td>367</td>\n",
       "      <td>Prothom Alo</td>\n",
       "      <td>2018-07-02 00:00:00</td>\n",
       "      <td>রাজ্জাকের জায়গাটা রাজ্জাককে দেওয়া হোক</td>\n",
       "      <td>team management</td>\n",
       "      <td>2</td>\n",
       "    </tr>\n",
       "    <tr>\n",
       "      <td>713</td>\n",
       "      <td>Prothom Alo</td>\n",
       "      <td>2018-08-02 00:00:00</td>\n",
       "      <td>রাজ্জাক নিজের জন্য নয়দেশের জন্য প্রাণ উজাড় করে...</td>\n",
       "      <td>bowling</td>\n",
       "      <td>1</td>\n",
       "    </tr>\n",
       "    <tr>\n",
       "      <td>2185</td>\n",
       "      <td>Prothom Alo</td>\n",
       "      <td>2018-10-02 00:00:00</td>\n",
       "      <td>মন অদ্ভুত উদাহরণ দিয়া আমাদের বুজানোর চেষ্টা কর...</td>\n",
       "      <td>other</td>\n",
       "      <td>0</td>\n",
       "    </tr>\n",
       "    <tr>\n",
       "      <td>1156</td>\n",
       "      <td>Prothom Alo</td>\n",
       "      <td>2018-09-02 00:00:00</td>\n",
       "      <td>আমরা নাকি হাতুড়ের শ্রীলংকাকে পাত্তাই দিচ্ছি না...</td>\n",
       "      <td>team</td>\n",
       "      <td>0</td>\n",
       "    </tr>\n",
       "    <tr>\n",
       "      <td>282</td>\n",
       "      <td>Prothom Alo</td>\n",
       "      <td>19/1/2018</td>\n",
       "      <td>হাথুরুর হার্ট ভেঙ্গে খান খান</td>\n",
       "      <td>other</td>\n",
       "      <td>0</td>\n",
       "    </tr>\n",
       "    <tr>\n",
       "      <td>558</td>\n",
       "      <td>Prothom Alo</td>\n",
       "      <td>2018-04-02 00:00:00</td>\n",
       "      <td>বাংলার ভিভিএস লক্ষ্মণ</td>\n",
       "      <td>team</td>\n",
       "      <td>1</td>\n",
       "    </tr>\n",
       "  </tbody>\n",
       "</table>\n",
       "</div>"
      ],
      "text/plain": [
       "           Source                 Date  \\\n",
       "445   Prothom Alo  2018-07-02 00:00:00   \n",
       "2687  Prothom Alo  2018-10-02 00:00:00   \n",
       "1541  Prothom Alo  2018-02-08 00:00:00   \n",
       "521   Prothom Alo  2018-05-02 00:00:00   \n",
       "367   Prothom Alo  2018-07-02 00:00:00   \n",
       "713   Prothom Alo  2018-08-02 00:00:00   \n",
       "2185  Prothom Alo  2018-10-02 00:00:00   \n",
       "1156  Prothom Alo  2018-09-02 00:00:00   \n",
       "282   Prothom Alo            19/1/2018   \n",
       "558   Prothom Alo  2018-04-02 00:00:00   \n",
       "\n",
       "                                                   Text         Category  \\\n",
       "445                       হাতরুর সিংহ একটি বেয়াদব মানুষ            other   \n",
       "2687  রংগনা হেরাত একাই শেষ করে ফেলবে স্পিন করলে পারল...          bowling   \n",
       "1541               সাকিব বিহীন দলটা সত্যিই অনেক অগোচালো             team   \n",
       "521    রানের ব্যবধানে চিরপ্রতিদ্বন্দ্বী ভারতের বিপক্...          batting   \n",
       "367              রাজ্জাকের জায়গাটা রাজ্জাককে দেওয়া হোক  team management   \n",
       "713   রাজ্জাক নিজের জন্য নয়দেশের জন্য প্রাণ উজাড় করে...          bowling   \n",
       "2185  মন অদ্ভুত উদাহরণ দিয়া আমাদের বুজানোর চেষ্টা কর...            other   \n",
       "1156  আমরা নাকি হাতুড়ের শ্রীলংকাকে পাত্তাই দিচ্ছি না...             team   \n",
       "282                        হাথুরুর হার্ট ভেঙ্গে খান খান            other   \n",
       "558                               বাংলার ভিভিএস লক্ষ্মণ             team   \n",
       "\n",
       "      Polarity  \n",
       "445          0  \n",
       "2687         0  \n",
       "1541         0  \n",
       "521          0  \n",
       "367          2  \n",
       "713          1  \n",
       "2185         0  \n",
       "1156         0  \n",
       "282          0  \n",
       "558          1  "
      ]
     },
     "execution_count": 63,
     "metadata": {},
     "output_type": "execute_result"
    }
   ],
   "source": [
    "df.sample(10, random_state=1)"
   ]
  },
  {
   "cell_type": "code",
   "execution_count": 64,
   "metadata": {},
   "outputs": [
    {
     "data": {
      "text/plain": [
       "array(['জয় বাংলা কাপ তাও আবার স্বাধীনতার মাস মার্চে যার মাথা থেকে এমন চমৎকার আইডিয়া এসেছে তালে স্যালুট',\n",
       "       'জয় বাংলা কাপ তাও আবার স্বাধীনতার মাস মার্চে যার মাথা থেকে এমন চমৎকার আইডিয়া এসেছে তালে স্যালুট',\n",
       "       'বাংলাদেশের পরে ভারতের সাপর্ট ই করি ', ...,\n",
       "       'বস ভাল করবে ইটাই আশা করিদারুন এরজন ব্যাটিং অলরাউন্ডার',\n",
       "       'গুগল সার্চ করে মিনহাজের রানরেট দেখে নিন এভারেজ  রানরেট নিয়ে এমন একজন ব্যক্তি কি করে প্রধান নির্বাচক হয়',\n",
       "       'টিম মেনেজমেন্ট থেকে শুরু করে সবাইকে গাজার পরিবর্তে অাফিম দেওয়া প্রয়োজন যাতে নেশা হলে ও মস্তিষ্ক টা নিয়ন্ত্রণে থাকেফালতু সব গাজাখুড়ি বাহানা'],\n",
       "      dtype=object)"
      ]
     },
     "execution_count": 64,
     "metadata": {},
     "output_type": "execute_result"
    }
   ],
   "source": [
    "df['Text'].values"
   ]
  },
  {
   "cell_type": "markdown",
   "metadata": {},
   "source": [
    "# Plot Frequency of sentiment categoru"
   ]
  },
  {
   "cell_type": "code",
   "execution_count": 65,
   "metadata": {},
   "outputs": [
    {
     "data": {
      "text/plain": [
       "<matplotlib.axes._subplots.AxesSubplot at 0x1f86a411a48>"
      ]
     },
     "execution_count": 65,
     "metadata": {},
     "output_type": "execute_result"
    },
    {
     "data": {
      "image/png": "[encoded data removed]",
      "text/plain": [
       "<Figure size 432x288 with 1 Axes>"
      ]
     },
     "metadata": {
      "needs_background": "light"
     },
     "output_type": "display_data"
    }
   ],
   "source": [
    "\n",
    "df['Polarity'].plot(kind='hist', title='Distribution of Polarity')"
   ]
  },
  {
   "cell_type": "code",
   "execution_count": 66,
   "metadata": {},
   "outputs": [
    {
     "name": "stderr",
     "output_type": "stream",
     "text": [
      "Using TensorFlow backend.\n"
     ]
    }
   ],
   "source": [
    "from keras import utils as np_utils\n",
    "x=df['Text'].values\n",
    "y=df['Polarity'].values\n"
   ]
  },
  {
   "cell_type": "markdown",
   "metadata": {},
   "source": [
    "# tokenize and pad_sequence"
   ]
  },
  {
   "cell_type": "code",
   "execution_count": 68,
   "metadata": {},
   "outputs": [],
   "source": [
    "max_features = 2000\n",
    "max_text_length = 400\n",
    "embedding_dims =100\n",
    "\n",
    "x_tokenizer = text.Tokenizer(max_features)\n",
    "x_tokenizer.fit_on_texts(list(x))\n",
    "x_tokenized = x_tokenizer.texts_to_sequences(x)\n",
    "x_train_val = sequence.pad_sequences(x_tokenized, maxlen=max_text_length)"
   ]
  },
  {
   "cell_type": "markdown",
   "metadata": {},
   "source": [
    "# Building model"
   ]
  },
  {
   "cell_type": "code",
   "execution_count": 69,
   "metadata": {},
   "outputs": [],
   "source": [
    "\n",
    "model = Sequential([\n",
    "    Embedding(max_features,  embedding_dims, input_length=max_text_length),\n",
    "\n",
    "    Conv1D(250,3,padding='valid',activation='relu'),\n",
    "    Dropout(0.2),\n",
    "    MaxPooling1D(),\n",
    "    GlobalMaxPooling1D(),\n",
    "\n",
    "    Dense(250, activation='relu'),\n",
    "    Dropout(0.2),\n",
    "    Dense(3, activation='softmax')   \n",
    "])"
   ]
  },
  {
   "cell_type": "markdown",
   "metadata": {},
   "source": [
    "# Model Summary"
   ]
  },
  {
   "cell_type": "code",
   "execution_count": 70,
   "metadata": {},
   "outputs": [
    {
     "name": "stdout",
     "output_type": "stream",
     "text": [
      "Model: \"sequential\"\n",
      "_________________________________________________________________\n",
      "Layer (type)                 Output Shape              Param #   \n",
      "=================================================================\n",
      "embedding (Embedding)        (None, 400, 100)          200000    \n",
      "_________________________________________________________________\n",
      "conv1d (Conv1D)              (None, 398, 250)          75250     \n",
      "_________________________________________________________________\n",
      "dropout (Dropout)            (None, 398, 250)          0         \n",
      "_________________________________________________________________\n",
      "max_pooling1d (MaxPooling1D) (None, 199, 250)          0         \n",
      "_________________________________________________________________\n",
      "global_max_pooling1d (Global (None, 250)               0         \n",
      "_________________________________________________________________\n",
      "dense (Dense)                (None, 250)               62750     \n",
      "_________________________________________________________________\n",
      "dropout_1 (Dropout)          (None, 250)               0         \n",
      "_________________________________________________________________\n",
      "dense_1 (Dense)              (None, 3)                 753       \n",
      "=================================================================\n",
      "Total params: 338,753\n",
      "Trainable params: 338,753\n",
      "Non-trainable params: 0\n",
      "_________________________________________________________________\n"
     ]
    }
   ],
   "source": [
    "model.summary()"
   ]
  },
  {
   "cell_type": "markdown",
   "metadata": {},
   "source": [
    "# Model compile"
   ]
  },
  {
   "cell_type": "code",
   "execution_count": 71,
   "metadata": {},
   "outputs": [],
   "source": [
    "model.compile(optimizer='rmsprop', loss='sparse_categorical_crossentropy', metrics=['accuracy'])"
   ]
  },
  {
   "cell_type": "markdown",
   "metadata": {},
   "source": [
    "# Split data training and testing"
   ]
  },
  {
   "cell_type": "code",
   "execution_count": 72,
   "metadata": {},
   "outputs": [],
   "source": [
    "x_train,x_test,y_train,y_test=train_test_split(x_train_val,y,test_size=.2,random_state=42)"
   ]
  },
  {
   "cell_type": "markdown",
   "metadata": {},
   "source": [
    "# Model train"
   ]
  },
  {
   "cell_type": "code",
   "execution_count": 73,
   "metadata": {},
   "outputs": [
    {
     "name": "stdout",
     "output_type": "stream",
     "text": [
      "Train on 2383 samples, validate on 596 samples\n",
      "Epoch 1/3\n",
      "2383/2383 [==============================] - 237s 100ms/sample - loss: 0.7612 - accuracy: 0.7130 - val_loss: 0.7035 - val_accuracy: 0.7265\n",
      "Epoch 2/3\n",
      "2383/2383 [==============================] - 202s 85ms/sample - loss: 0.6137 - accuracy: 0.7587 - val_loss: 0.6537 - val_accuracy: 0.7584\n",
      "Epoch 3/3\n",
      "2383/2383 [==============================] - 438s 184ms/sample - loss: 0.4796 - accuracy: 0.8221 - val_loss: 0.6659 - val_accuracy: 0.7500\n"
     ]
    }
   ],
   "source": [
    "history=model.fit(x_train,y_train, validation_data=(x_test, y_test),\n",
    "                  epochs=3,batch_size=32,verbose=1)"
   ]
  },
  {
   "cell_type": "markdown",
   "metadata": {},
   "source": [
    "#  plot the epoch vs accuracy graph\n"
   ]
  },
  {
   "cell_type": "code",
   "execution_count": 74,
   "metadata": {},
   "outputs": [
    {
     "data": {
      "image/png": "[encoded data removed]",
      "text/plain": [
       "<Figure size 432x288 with 1 Axes>"
      ]
     },
     "metadata": {
      "needs_background": "light"
     },
     "output_type": "display_data"
    }
   ],
   "source": [
    "\n",
    "try:\n",
    "    plt.plot(history.history['accuracy'])\n",
    "    plt.plot(history.history['val_accuracy'])\n",
    "except KeyError:\n",
    "    plt.plot(history.history['acc'])\n",
    "    plt.plot(history.history['val_acc'])\n",
    "plt.title('Accuracy vs. epochs')\n",
    "plt.ylabel('Loss')\n",
    "plt.xlabel('Epoch')\n",
    "plt.legend(['Training', 'Validation'], loc='lower right')\n",
    "plt.show() "
   ]
  },
  {
   "cell_type": "markdown",
   "metadata": {},
   "source": [
    "# plot the epoch vs loss graph"
   ]
  },
  {
   "cell_type": "code",
   "execution_count": 75,
   "metadata": {},
   "outputs": [
    {
     "data": {
      "image/png": "[encoded data removed]",
      "text/plain": [
       "<Figure size 432x288 with 1 Axes>"
      ]
     },
     "metadata": {
      "needs_background": "light"
     },
     "output_type": "display_data"
    }
   ],
   "source": [
    "\n",
    "plt.plot(history.history['loss'])\n",
    "plt.plot(history.history['val_loss'])\n",
    "plt.title('Loss vs. epochs')\n",
    "plt.ylabel('Loss')\n",
    "plt.xlabel('Epoch')\n",
    "plt.legend(['Training', 'Validation'], loc='upper right')\n",
    "plt.show() "
   ]
  },
  {
   "cell_type": "code",
   "execution_count": null,
   "metadata": {},
   "outputs": [],
   "source": []
  }
 ],
 "metadata": {
  "kernelspec": {
   "display_name": "Python 3",
   "language": "python",
   "name": "python3"
  },
  "language_info": {
   "codemirror_mode": {
    "name": "ipython",
    "version": 3
   },
   "file_extension": ".py",
   "mimetype": "text/x-python",
   "name": "python",
   "nbconvert_exporter": "python",
   "pygments_lexer": "ipython3",
   "version": "3.7.4"
  }
 },
 "nbformat": 4,
 "nbformat_minor": 2
}
